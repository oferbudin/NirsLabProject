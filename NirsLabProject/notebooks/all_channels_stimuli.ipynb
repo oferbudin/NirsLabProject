{
 "cells": [
  {
   "cell_type": "markdown",
   "id": "31679a6e",
   "metadata": {},
   "source": [
    "## Differenece From Baseline - stimuli Histogram"
   ]
  },
  {
   "cell_type": "code",
   "execution_count": 33,
   "id": "381d34c5",
   "metadata": {},
   "outputs": [],
   "source": [
    "import os\n",
    "import re\n",
    "from typing import Dict\n",
    "import matplotlib.pyplot as plt\n",
    "\n",
    "\n",
    "import mne\n",
    "import numpy as np\n",
    "import scipy.stats as sp_stats\n",
    "from joblib import Parallel, delayed\n",
    "from NirsLabProject.config.paths import Paths\n",
    "\n",
    "from NirsLabProject.utils import general_utils as utils\n",
    "from NirsLabProject.config.consts import *\n",
    "\n",
    "from NirsLabProject.utils import general_utils as utils\n",
    "from NirsLabProject.config.consts import *\n",
    "from NirsLabProject.config.subject import Subject\n",
    "from NirsLabProject.utils.group_spikes import group_spikes\n",
    "from NirsLabProject.utils import plotting"
   ]
  },
  {
   "cell_type": "code",
   "execution_count": 60,
   "id": "e19e3f91",
   "metadata": {},
   "outputs": [],
   "source": [
    "subjects = [Subject(d, True) for d in os.listdir(Paths.products_data_dir_path) if d.startswith('p')]\n",
    "subjects = filter(lambda subj: subj.stimuli_project, subjects)\n",
    "subjects = filter(lambda subj: os.path.exists(subj.paths.subject_flat_features_path), subjects)\n",
    "subjects = list(subjects)"
   ]
  },
  {
   "cell_type": "code",
   "execution_count": 101,
   "id": "519aac32",
   "metadata": {},
   "outputs": [],
   "source": [
    "baseline_diff = lambda a,b: ((b-a) / max(b, a)) * 100\n",
    "list_avarage = lambda l: sum(l) / len(l) if len(l) > 0 else 0"
   ]
  },
  {
   "cell_type": "markdown",
   "id": "a98b1fe0",
   "metadata": {},
   "source": [
    "For every feature (amplitude, spatial spread of multi channel group event) we calculate:\n",
    "- for every block (stimuli, pause)\n",
    "    - for every channel the avarage difference from baseline block\n",
    "histogram of the the avarage diffrences of all the channels of all subjects"
   ]
  },
  {
   "cell_type": "code",
   "execution_count": null,
   "id": "a51e3791",
   "metadata": {},
   "outputs": [],
   "source": [
    "\n",
    "\n",
    "def validate(channels_to_fetures, block_feature):\n",
    "    count = 0\n",
    "    for channel, data in channels_to_fetures.items():\n",
    "        count += len(data)\n",
    "    assert block_feature.shape[0] == count\n",
    "\n",
    "features_to_plot = {\n",
    "    'Amplitude': AMPLITUDE_INDEX,\n",
    "    'Spatial Spread': GROUP_EVENT_SPATIAL_SPREAD_INDEX\n",
    "}\n",
    "\n",
    "subject_s = Subject(STIMULI_PROJECT_INTERSUBJECTS_SUBJECT_NAME, True)\n",
    "histogrmas_path =  os.path.join(\n",
    "        subject_s.paths.subject_stimuli_effects_plots_dir_path,\n",
    "        'histograms'\n",
    ")\n",
    "not os.path.exists(histogrmas_path) and  os.makedirs(histogrmas_path)\n",
    "\n",
    "for feature_name, feature_index in features_to_plot.items():\n",
    "    for is_stimuli_block in [True, False]:\n",
    "        channel_basline_diff = []\n",
    "        for subj in subjects:\n",
    "            subj_features = np.load(subj.paths.subject_flat_features_path)\n",
    "\n",
    "            group_ids = subj_features[:, GROUP_INDEX]\n",
    "            unique_indices = np.unique(group_ids, return_index=True)[1]\n",
    "            unique_group_subj_features = subj_features[unique_indices]\n",
    "\n",
    "            if not os.path.exists(subj.paths.subject_sleep_scoring_path):\n",
    "                continue\n",
    "\n",
    "            #  if group feature we don't need more than one representative\n",
    "            if GROUP_INDEX <= feature_index <= GROUP_EVENT_SPATIAL_SPREAD_INDEX:\n",
    "                group_ids = subj_features[:, GROUP_INDEX]\n",
    "                unique_indices = np.unique(group_ids, return_index=True)[1]\n",
    "                unique_group_subj_features = subj_features[unique_indices]\n",
    "                before, stim_block, pause_block, _, _ = utils.stimuli_effects(subj, unique_group_subj_features)\n",
    "            else:\n",
    "                before, stim_block, pause_block, _, _ = utils.stimuli_effects(subj, subj_features)\n",
    "\n",
    "            baseline_mean = np.mean(before[:, feature_index])\n",
    "            block_to_comapre = stim_block if is_stimuli_block else pause_block\n",
    "            channels, _ = np.unique(block_to_comapre[:,CHANNEL_INDEX], return_inverse=True)\n",
    "            channel_blocks_values = {channel: [] for channel in channels}\n",
    "            for spike in block_to_comapre:\n",
    "                channel_blocks_values[spike[CHANNEL_INDEX]].append(spike[feature_index])\n",
    "            validate(channel_blocks_values, block_to_comapre)\n",
    "\n",
    "            for channel, features in channel_blocks_values.items():\n",
    "                channel_basline_diff.append(\n",
    "                    baseline_diff(\n",
    "                        baseline_mean,\n",
    "                        list_avarage(features),\n",
    "                    )\n",
    "                )\n",
    "                \n",
    "        # Plot the histogram\n",
    "        diffs = np.asarray(channel_basline_diff)\n",
    "        hist, edges = np.histogram(diffs, bins=20)\n",
    "        median = np.median(diffs)\n",
    "\n",
    "        plt.hist(diffs, bins=20,  facecolor = '#2ab0ff', edgecolor='#169acf', linewidth=0.5)\n",
    "        plt.axvline(median, color='k', linestyle='dashed', linewidth=1)\n",
    "        plt.text(median+5, plt.ylim()[-1]*0.9, 'Median: {:.2f}'.format(median))\n",
    "        plt.style.use('seaborn-whitegrid')\n",
    "        title = f'{\"Stimuli\" if is_stimuli_block else \"Pause\"} Block Different From Basline - {feature_name}'\n",
    "        plt.title(f'{title} (n={len(list(diffs))})')\n",
    "        plt.xlabel('Amplitude Diff From Baseline (%)')\n",
    "        plt.ylabel('Number Of Channels')\n",
    "        plt.savefig(\n",
    "            os.path.join(\n",
    "                histogrmas_path,\n",
    "                f'{title}.png'\n",
    "            ),\n",
    "            dpi=1000\n",
    "        )\n",
    "        plt.clf()\n"
   ]
  }
 ],
 "metadata": {
  "kernelspec": {
   "display_name": "Python 3 (ipykernel)",
   "language": "python",
   "name": "python3"
  },
  "language_info": {
   "codemirror_mode": {
    "name": "ipython",
    "version": 3
   },
   "file_extension": ".py",
   "mimetype": "text/x-python",
   "name": "python",
   "nbconvert_exporter": "python",
   "pygments_lexer": "ipython3",
   "version": "3.9.16"
  }
 },
 "nbformat": 4,
 "nbformat_minor": 5
}
