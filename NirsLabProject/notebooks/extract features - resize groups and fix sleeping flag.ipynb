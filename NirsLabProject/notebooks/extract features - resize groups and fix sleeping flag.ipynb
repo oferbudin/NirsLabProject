{
 "cells": [
  {
   "cell_type": "markdown",
   "id": "5e9809ae",
   "metadata": {},
   "source": [
    "### Imports"
   ]
  },
  {
   "cell_type": "code",
   "execution_count": 11,
   "id": "6ae96002",
   "metadata": {},
   "outputs": [],
   "source": [
    "import os\n",
    "import re\n",
    "from typing import Dict\n",
    "\n",
    "import mne\n",
    "import numpy as np\n",
    "import scipy.stats as sp_stats\n",
    "from joblib import Parallel, delayed\n",
    "from NirsLabProject.config.paths import Paths\n",
    "\n",
    "from NirsLabProject.utils import pipeline_utils as putils\n",
    "from NirsLabProject.config.consts import *\n",
    "\n",
    "from NirsLabProject.utils import general_utils as utils\n",
    "from NirsLabProject.config.consts import *\n",
    "from NirsLabProject.config.subject import Subject\n",
    "from NirsLabProject.utils.group_spikes import group_spikes\n",
    "from NirsLabProject.utils import plotting\n"
   ]
  },
  {
   "cell_type": "markdown",
   "id": "d01f52c3",
   "metadata": {},
   "source": [
    "### Extract Paths of stimuli features\n",
    "These are the features from the raw edf data without grouping, stimuli and sleeping features"
   ]
  },
  {
   "cell_type": "code",
   "execution_count": 2,
   "id": "0d32b406",
   "metadata": {},
   "outputs": [],
   "source": [
    "subjects = [Subject(d, True) for d in os.listdir(Paths.products_data_dir_path) if d.startswith('p')]\n",
    "stimuli_subjects = subjects\n",
    "stimuli_subjects_with_features = filter(lambda subj: os.path.exists(subj.paths.subject_channels_spikes_features_path), stimuli_subjects)\n",
    "stimuli_subjects_with_features = sorted(stimuli_subjects_with_features, key=lambda s: s.p_number)"
   ]
  },
  {
   "cell_type": "code",
   "execution_count": 23,
   "id": "ffd38521",
   "metadata": {},
   "outputs": [
    {
     "name": "stdout",
     "output_type": "stream",
     "text": [
      "Grouping spikes\n",
      "p485 (19202, 22)\n",
      "Grouping spikes\n",
      "p486 (24306, 22)\n",
      "Grouping spikes\n",
      "p488 (86479, 22)\n",
      "Grouping spikes\n",
      "p496 (16361, 22)\n",
      "Grouping spikes\n",
      "p499 (58390, 22)\n",
      "Grouping spikes\n",
      "p520 (1011, 22)\n"
     ]
    }
   ],
   "source": [
    "def edit_coordinates(channels_spikes_features):\n",
    "    channel_name_to_coordinates = utils.calculate_coordinates(subj)\n",
    "    for channel, data in channels_spikes_features.items():\n",
    "        x, y, z = utils.get_coordinates_of_channel(channel_name_to_coordinates, channel)\n",
    "        data[:, CORD_X_INDEX] = x\n",
    "        data[:, CORD_Y_INDEX] = y\n",
    "        data[:, CORD_Z_INDEX] = z\n",
    "    return channels_spikes_features\n",
    "\n",
    "def regenerate_flat_features(subj: Subject):\n",
    "    channels_spikes_features = np.load(\n",
    "        subj.paths.subject_channels_spikes_features_path,\n",
    "        allow_pickle=True\n",
    "    ).item()\n",
    "#     channels_spikes_features = edit_coordinates(channels_spikes_features)\n",
    "    index_to_channel = putils.get_index_to_channel(subj, channels_spikes_features)\n",
    "    groups, flat_features, _ = putils.group_spikes(subj, channels_spikes_features, index_to_channel)\n",
    "    flat_features = utils.add_flag_of_scalp_detection_to_spikes_features(flat_features, None)\n",
    "    flat_features = utils.add_stimuli_flag_to_spikes_features(subj, flat_features)\n",
    "    flat_features = utils.add_sleeping_stage_flag_to_spike_features(subj, flat_features)\n",
    "    subject_id = np.ones((flat_features.shape[0], 1)) * subj.p_number\n",
    "    flat_features[:, SUBJECT_NUMBER] = subject_id.reshape(-1)\n",
    "    return flat_features\n",
    "\n",
    "for subj in stimuli_subjects_with_features:\n",
    "    if subj.name in ['p485', 'p486', 'p488', 'p496', 'p499', 'p520']:\n",
    "        flat_features = regenerate_flat_features(subj)\n",
    "        print(subj.name, flat_features.shape)\n",
    "        np.save(subj.paths.subject_flat_features_path, flat_features)\n",
    "    "
   ]
  },
  {
   "cell_type": "code",
   "execution_count": 9,
   "id": "029512b4",
   "metadata": {},
   "outputs": [],
   "source": [
    "import shutil\n",
    "import os\n",
    "\n",
    "for subj in stimuli_subjects_with_features:\n",
    "    new_path = '/tmp/flat_features'\n",
    "    if not os.path.exists(new_path):\n",
    "        os.makedirs(new_path)\n",
    "    shutil.copyfile(subj.paths.subject_flat_features_path, os.path.join(new_path, f'{subj.p_number}_flat_features.npy'))"
   ]
  },
  {
   "cell_type": "code",
   "execution_count": 22,
   "id": "cfe394d1",
   "metadata": {},
   "outputs": [
    {
     "name": "stdout",
     "output_type": "stream",
     "text": [
      "p485 0.6395976284058357\n",
      "p486 0.866524064171123\n",
      "p488 0.7786481546509638\n",
      "p496 0.835896387881265\n",
      "p499 0.8724561455936407\n",
      "p520 0.7273381294964029\n",
      "avg: 0.7867434183665384\n"
     ]
    }
   ],
   "source": [
    "_sum = 0\n",
    "count = 0\n",
    "for k,v in {\n",
    "    'p485': 19202/30022,\n",
    "    'p486': 24306/28050,\n",
    "    'p488': 86479/111063,\n",
    "    'p496': 16361/19573,\n",
    "    'p499': 58390/66926,\n",
    "    'p520': 1011/1390,\n",
    "}.items():\n",
    "    print(k,v)\n",
    "    _sum += v\n",
    "    count+= 1\n",
    "    \n",
    "print('avg:', _sum/count)\n"
   ]
  }
 ],
 "metadata": {
  "kernelspec": {
   "display_name": "Python 3 (ipykernel)",
   "language": "python",
   "name": "python3"
  },
  "language_info": {
   "codemirror_mode": {
    "name": "ipython",
    "version": 3
   },
   "file_extension": ".py",
   "mimetype": "text/x-python",
   "name": "python",
   "nbconvert_exporter": "python",
   "pygments_lexer": "ipython3",
   "version": "3.9.16"
  }
 },
 "nbformat": 4,
 "nbformat_minor": 5
}
