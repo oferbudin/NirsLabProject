{
 "cells": [
  {
   "cell_type": "markdown",
   "id": "b7194a5d",
   "metadata": {},
   "source": [
    "## Create 3D Plot For All Stimuli Subjects"
   ]
  },
  {
   "cell_type": "code",
   "execution_count": 11,
   "id": "1fdb8e0d",
   "metadata": {},
   "outputs": [],
   "source": [
    "import os\n",
    "import numpy as np\n",
    "from NirsLabProject.config.paths import Paths\n",
    "from NirsLabProject.config.subject import Subject\n",
    "from NirsLabProject.utils import pipeline_utils\n",
    "from NirsLabProject.utils import plotting\n",
    "\n",
    "\n",
    "subjects = [Subject(d, True) for d in os.listdir(Paths.products_data_dir_path) if d.startswith('p')]\n",
    "stimuli_subjects = filter(lambda subj: subj.stimuli_project, subjects)\n",
    "stimuli_subjects_with_features = filter(lambda subj: os.path.exists(subj.paths.subject_channels_spikes_features_path), stimuli_subjects)\n",
    "stimuli_subjects_with_features = sorted(stimuli_subjects_with_features, key=lambda s: s.p_number)\n",
    "    \n",
    "for subject in stimuli_subjects_with_features:\n",
    "    channels_spikes_features = np.load(subject.paths.subject_channels_spikes_features_path, allow_pickle=True).item()\n",
    "    # plots the spikes features histograms in 3D space\n",
    "    plotting.plot_avg_spike_amplitude_by_electrode(subject, channels_spikes_features)\n",
    "    plotting.plot_number_of_spikes_by_electrode(subject, channels_spikes_features)"
   ]
  }
 ],
 "metadata": {
  "kernelspec": {
   "display_name": "Python 3 (ipykernel)",
   "language": "python",
   "name": "python3"
  },
  "language_info": {
   "codemirror_mode": {
    "name": "ipython",
    "version": 3
   },
   "file_extension": ".py",
   "mimetype": "text/x-python",
   "name": "python",
   "nbconvert_exporter": "python",
   "pygments_lexer": "ipython3",
   "version": "3.9.16"
  }
 },
 "nbformat": 4,
 "nbformat_minor": 5
}
