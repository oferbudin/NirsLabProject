{
 "cells": [
  {
   "cell_type": "markdown",
   "id": "bcbd8d53",
   "metadata": {},
   "source": [
    "# Souraski"
   ]
  },
  {
   "cell_type": "markdown",
   "id": "74d28751",
   "metadata": {},
   "source": [
    "### Most epileptic channels - for every subject"
   ]
  },
  {
   "cell_type": "code",
   "execution_count": 18,
   "id": "3606572e",
   "metadata": {},
   "outputs": [
    {
     "name": "stdout",
     "output_type": "stream",
     "text": [
      "{'p13': [{'channel_name': 'RMH1', 'num': 3421}, {'channel_name': 'RAC6', 'num': 2915}, {'channel_name': 'RA3', 'num': 2849}], 'p17': [{'channel_name': 'LMI6', 'num': 5873}, {'channel_name': 'LAI4', 'num': 5561}, {'channel_name': 'LSTG4', 'num': 5419}], 'p18': [{'channel_name': 'LCAUD7', 'num': 1220}, {'channel_name': 'RSMA1', 'num': 710}, {'channel_name': 'RSMA2', 'num': 475}], 'p25': [{'channel_name': 'RSTG3', 'num': 5064}, {'channel_name': 'RSTG4', 'num': 2003}, {'channel_name': 'RAI6', 'num': 1647}], 'p39': [{'channel_name': 'LA1', 'num': 1978}, {'channel_name': 'LAH1', 'num': 1687}, {'channel_name': 'LT2b-aH 03', 'num': 1590}]}\n"
     ]
    }
   ],
   "source": [
    "import os\n",
    "import numpy as np\n",
    "from NirsLabProject.config.paths import Paths\n",
    "from NirsLabProject.config import consts\n",
    "from NirsLabProject.config.subject import Subject\n",
    "from NirsLabProject.utils import pipeline_utils\n",
    "\n",
    "\n",
    "# all subjects\n",
    "subjects = [Subject(d, True) for d in os.listdir(Paths.products_data_dir_path) if d.startswith('p')]\n",
    "# only sourasky subjects\n",
    "subjects = filter(lambda subj: subj.sourasky_project, subjects)\n",
    "# only detection projects\n",
    "subjects = filter(lambda subj: not subj.stimuli_project, subjects)\n",
    "# only subjects with features\n",
    "subjects = filter(lambda subj: os.path.exists(subj.paths.subject_flat_features_path), subjects)\n",
    "\n",
    "flat_features, index_to_channel = pipeline_utils.get_features_of_subjects(subjects)\n",
    "\n",
    "subject_numbers = np.unique(flat_features[:,consts.SUBJECT_NUMBER])\n",
    "\n",
    "top_channels = {}\n",
    "for subject_number in subject_numbers:\n",
    "    subject_name = f'p{int(subject_number)}'\n",
    "    top_channels[subject_name] = []\n",
    "    subject_features = flat_features[flat_features[:, consts.SUBJECT_NUMBER] == subject_number]\n",
    "    chnnels, how_many = np.unique(subject_features[:,consts.CHANNEL_INDEX], return_counts=True)\n",
    "    indices_of_largest = np.argsort(how_many)[-3:]\n",
    "    for channel_index, num in zip(chnnels[indices_of_largest], how_many[indices_of_largest]):\n",
    "        top_channels[subject_name].append(\n",
    "            {\n",
    "                'channel_name': index_to_channel[channel_index],\n",
    "                'num': num\n",
    "            }\n",
    "        )\n",
    "for subject in top_channels.keys():\n",
    "    top_channels[subject].sort(key=lambda x: x['num'], reverse=True)\n",
    "print(top_channels)\n"
   ]
  }
 ],
 "metadata": {
  "kernelspec": {
   "display_name": "Python 3 (ipykernel)",
   "language": "python",
   "name": "python3"
  },
  "language_info": {
   "codemirror_mode": {
    "name": "ipython",
    "version": 3
   },
   "file_extension": ".py",
   "mimetype": "text/x-python",
   "name": "python",
   "nbconvert_exporter": "python",
   "pygments_lexer": "ipython3",
   "version": "3.9.16"
  }
 },
 "nbformat": 4,
 "nbformat_minor": 5
}
